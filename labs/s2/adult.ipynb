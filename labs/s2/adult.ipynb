{
 "cells": [
  {
   "cell_type": "markdown",
   "metadata": {},
   "source": [
    "# Adult dataset preprocessing\n",
    "#### Author: Josep de Cid Rodríguez"
   ]
  },
  {
   "cell_type": "code",
   "execution_count": 126,
   "metadata": {},
   "outputs": [],
   "source": [
    "import numpy as np\n",
    "import pandas as pd\n",
    "import matplotlib.pyplot as plt\n",
    "\n",
    "from utils import read_dataset\n",
    "\n",
    "%matplotlib inline"
   ]
  },
  {
   "cell_type": "code",
   "execution_count": 127,
   "metadata": {},
   "outputs": [
    {
     "name": "stdout",
     "output_type": "stream",
     "text": [
      "[ 0/1] Reading adult dataset...\n"
     ]
    }
   ],
   "source": [
    "dataset = read_dataset('adult')\n",
    "data = dataset['data']"
   ]
  },
  {
   "cell_type": "code",
   "execution_count": 141,
   "metadata": {
    "scrolled": false
   },
   "outputs": [
    {
     "data": {
      "text/html": [
       "<div>\n",
       "<style scoped>\n",
       "    .dataframe tbody tr th:only-of-type {\n",
       "        vertical-align: middle;\n",
       "    }\n",
       "\n",
       "    .dataframe tbody tr th {\n",
       "        vertical-align: top;\n",
       "    }\n",
       "\n",
       "    .dataframe thead th {\n",
       "        text-align: right;\n",
       "    }\n",
       "</style>\n",
       "<table border=\"1\" class=\"dataframe\">\n",
       "  <thead>\n",
       "    <tr style=\"text-align: right;\">\n",
       "      <th></th>\n",
       "      <th>age</th>\n",
       "      <th>workclass</th>\n",
       "      <th>fnlwgt</th>\n",
       "      <th>education</th>\n",
       "      <th>education-num</th>\n",
       "      <th>marital-status</th>\n",
       "      <th>occupation</th>\n",
       "      <th>relationship</th>\n",
       "      <th>race</th>\n",
       "      <th>sex</th>\n",
       "      <th>capital-gain</th>\n",
       "      <th>capital-loss</th>\n",
       "      <th>hours-per-week</th>\n",
       "      <th>native-country</th>\n",
       "    </tr>\n",
       "  </thead>\n",
       "  <tbody>\n",
       "    <tr>\n",
       "      <td>0</td>\n",
       "      <td>25.0</td>\n",
       "      <td>b'Private'</td>\n",
       "      <td>226802.0</td>\n",
       "      <td>b'11th'</td>\n",
       "      <td>7.0</td>\n",
       "      <td>b'Never-married'</td>\n",
       "      <td>b'Machine-op-inspct'</td>\n",
       "      <td>b'Own-child'</td>\n",
       "      <td>b'Black'</td>\n",
       "      <td>b'Male'</td>\n",
       "      <td>0.0</td>\n",
       "      <td>0.0</td>\n",
       "      <td>40.0</td>\n",
       "      <td>b'United-States'</td>\n",
       "    </tr>\n",
       "    <tr>\n",
       "      <td>1</td>\n",
       "      <td>38.0</td>\n",
       "      <td>b'Private'</td>\n",
       "      <td>89814.0</td>\n",
       "      <td>b'HS-grad'</td>\n",
       "      <td>9.0</td>\n",
       "      <td>b'Married-civ-spouse'</td>\n",
       "      <td>b'Farming-fishing'</td>\n",
       "      <td>b'Husband'</td>\n",
       "      <td>b'White'</td>\n",
       "      <td>b'Male'</td>\n",
       "      <td>0.0</td>\n",
       "      <td>0.0</td>\n",
       "      <td>50.0</td>\n",
       "      <td>b'United-States'</td>\n",
       "    </tr>\n",
       "    <tr>\n",
       "      <td>2</td>\n",
       "      <td>28.0</td>\n",
       "      <td>b'Local-gov'</td>\n",
       "      <td>336951.0</td>\n",
       "      <td>b'Assoc-acdm'</td>\n",
       "      <td>12.0</td>\n",
       "      <td>b'Married-civ-spouse'</td>\n",
       "      <td>b'Protective-serv'</td>\n",
       "      <td>b'Husband'</td>\n",
       "      <td>b'White'</td>\n",
       "      <td>b'Male'</td>\n",
       "      <td>0.0</td>\n",
       "      <td>0.0</td>\n",
       "      <td>40.0</td>\n",
       "      <td>b'United-States'</td>\n",
       "    </tr>\n",
       "    <tr>\n",
       "      <td>3</td>\n",
       "      <td>44.0</td>\n",
       "      <td>b'Private'</td>\n",
       "      <td>160323.0</td>\n",
       "      <td>b'Some-college'</td>\n",
       "      <td>10.0</td>\n",
       "      <td>b'Married-civ-spouse'</td>\n",
       "      <td>b'Machine-op-inspct'</td>\n",
       "      <td>b'Husband'</td>\n",
       "      <td>b'Black'</td>\n",
       "      <td>b'Male'</td>\n",
       "      <td>7688.0</td>\n",
       "      <td>0.0</td>\n",
       "      <td>40.0</td>\n",
       "      <td>b'United-States'</td>\n",
       "    </tr>\n",
       "    <tr>\n",
       "      <td>4</td>\n",
       "      <td>18.0</td>\n",
       "      <td>NaN</td>\n",
       "      <td>103497.0</td>\n",
       "      <td>b'Some-college'</td>\n",
       "      <td>10.0</td>\n",
       "      <td>b'Never-married'</td>\n",
       "      <td>NaN</td>\n",
       "      <td>b'Own-child'</td>\n",
       "      <td>b'White'</td>\n",
       "      <td>b'Female'</td>\n",
       "      <td>0.0</td>\n",
       "      <td>0.0</td>\n",
       "      <td>30.0</td>\n",
       "      <td>b'United-States'</td>\n",
       "    </tr>\n",
       "  </tbody>\n",
       "</table>\n",
       "</div>"
      ],
      "text/plain": [
       "    age     workclass    fnlwgt        education  education-num  \\\n",
       "0  25.0    b'Private'  226802.0          b'11th'            7.0   \n",
       "1  38.0    b'Private'   89814.0       b'HS-grad'            9.0   \n",
       "2  28.0  b'Local-gov'  336951.0    b'Assoc-acdm'           12.0   \n",
       "3  44.0    b'Private'  160323.0  b'Some-college'           10.0   \n",
       "4  18.0           NaN  103497.0  b'Some-college'           10.0   \n",
       "\n",
       "          marital-status            occupation  relationship      race  \\\n",
       "0       b'Never-married'  b'Machine-op-inspct'  b'Own-child'  b'Black'   \n",
       "1  b'Married-civ-spouse'    b'Farming-fishing'    b'Husband'  b'White'   \n",
       "2  b'Married-civ-spouse'    b'Protective-serv'    b'Husband'  b'White'   \n",
       "3  b'Married-civ-spouse'  b'Machine-op-inspct'    b'Husband'  b'Black'   \n",
       "4       b'Never-married'                   NaN  b'Own-child'  b'White'   \n",
       "\n",
       "         sex  capital-gain  capital-loss  hours-per-week    native-country  \n",
       "0    b'Male'           0.0           0.0            40.0  b'United-States'  \n",
       "1    b'Male'           0.0           0.0            50.0  b'United-States'  \n",
       "2    b'Male'           0.0           0.0            40.0  b'United-States'  \n",
       "3    b'Male'        7688.0           0.0            40.0  b'United-States'  \n",
       "4  b'Female'           0.0           0.0            30.0  b'United-States'  "
      ]
     },
     "execution_count": 141,
     "metadata": {},
     "output_type": "execute_result"
    }
   ],
   "source": [
    "df = pd.DataFrame(data)\n",
    "df = df.drop(columns=['class'])\n",
    "df = df.replace(b'?', np.nan)\n",
    "df.head()"
   ]
  },
  {
   "cell_type": "code",
   "execution_count": 129,
   "metadata": {},
   "outputs": [],
   "source": [
    "categorical_features = ['workclass', 'education', 'marital-status', 'occupation',\n",
    "                        'relationship', 'race', 'sex', 'native-country']\n",
    "\n",
    "categorical_features = ['education', 'marital-status', 'relationship', 'race', 'sex',]\n",
    "\n",
    "numerical_features = ['age', 'fnlwgt', 'education-num', 'capital-gain', 'capital-loss', 'hours-per-week']"
   ]
  },
  {
   "cell_type": "markdown",
   "metadata": {},
   "source": [
    "### Check missing values"
   ]
  },
  {
   "cell_type": "code",
   "execution_count": 131,
   "metadata": {
    "scrolled": true
   },
   "outputs": [
    {
     "name": "stdout",
     "output_type": "stream",
     "text": [
      "age                  0\n",
      "workclass         2799\n",
      "fnlwgt               0\n",
      "education            0\n",
      "education-num        0\n",
      "marital-status       0\n",
      "occupation        2809\n",
      "relationship         0\n",
      "race                 0\n",
      "sex                  0\n",
      "capital-gain         0\n",
      "capital-loss         0\n",
      "hours-per-week       0\n",
      "native-country     857\n",
      "dtype: int64 \n",
      "\n",
      "Missing values:           0.9455% (6465/683788)\n",
      "Rows with missing values: 7.4117% (3620/48842)\n"
     ]
    }
   ],
   "source": [
    "missing = df.isnull().sum()\n",
    "missing_rows = df.isnull().any(axis=1).sum()\n",
    "\n",
    "percent_missing = 100 * missing.sum() / (df.shape[0] * df.shape[1])\n",
    "percent_missing_rows = 100 * missing_rows / df.shape[0]\n",
    "\n",
    "print(missing, '\\n')\n",
    "print(f'Missing values:           {percent_missing:.4}% ({missing.sum()}/{(df.shape[0] * df.shape[1])})')\n",
    "print(f'Rows with missing values: {percent_missing_rows:.4f}% ({missing_rows}/{df.shape[0]})')"
   ]
  },
  {
   "cell_type": "markdown",
   "metadata": {},
   "source": [
    "The dataset `adult` has a few missing values in three categorical attributes: `workclass`, `occupation` and `native-country`. There are two ways to deal with missing values for categorical attributes:\n",
    "\n",
    "**1. Remove rows containing missing values**\n",
    "\n",
    "Given huge datasets, if the number of missing values is small, the simplest action to perform is to remove rows which contain some of these. Remove data leads to lose of information, but if the percentage is so small, we are adding just some negligible bias. In fact, this is our case, where we would delete just 7.5% of the rows. Despite of being a small percentage, it may not be negligible, so we will also consider other methods.\n",
    "\n",
    "**2. Remove columns with > 75% missing values**\n",
    "\n",
    "If a column (or attribute) has almost none of its values, we can consider that information as 'useless', as creating syntetically most of the values from a small unrepresentative set will probably lead us to worse results than just dropping that attribute. We can forget about this method, as the column with more NAs has just a 5.7307% of missing values.\n",
    "\n",
    "**2. K-NN Imputation**\n",
    "\n",
    "For imputing categorical variables, we can use a neighbours algorithm, computing with a *distance function* the K-th more similar rows and inputing what the majority of these K rows has in that attribute.\n",
    "\n",
    "We will select this one"
   ]
  },
  {
   "cell_type": "code",
   "execution_count": 132,
   "metadata": {},
   "outputs": [
    {
     "data": {
      "text/html": [
       "<div>\n",
       "<style scoped>\n",
       "    .dataframe tbody tr th:only-of-type {\n",
       "        vertical-align: middle;\n",
       "    }\n",
       "\n",
       "    .dataframe tbody tr th {\n",
       "        vertical-align: top;\n",
       "    }\n",
       "\n",
       "    .dataframe thead th {\n",
       "        text-align: right;\n",
       "    }\n",
       "</style>\n",
       "<table border=\"1\" class=\"dataframe\">\n",
       "  <thead>\n",
       "    <tr style=\"text-align: right;\">\n",
       "      <th></th>\n",
       "      <th>age</th>\n",
       "      <th>workclass</th>\n",
       "      <th>fnlwgt</th>\n",
       "      <th>education</th>\n",
       "      <th>education-num</th>\n",
       "      <th>marital-status</th>\n",
       "      <th>occupation</th>\n",
       "      <th>relationship</th>\n",
       "      <th>race</th>\n",
       "      <th>sex</th>\n",
       "      <th>capital-gain</th>\n",
       "      <th>capital-loss</th>\n",
       "      <th>hours-per-week</th>\n",
       "      <th>native-country</th>\n",
       "    </tr>\n",
       "  </thead>\n",
       "  <tbody>\n",
       "    <tr>\n",
       "      <td>0</td>\n",
       "      <td>25.0</td>\n",
       "      <td>b'Private'</td>\n",
       "      <td>226802.0</td>\n",
       "      <td>1.0</td>\n",
       "      <td>7.0</td>\n",
       "      <td>4.0</td>\n",
       "      <td>b'Machine-op-inspct'</td>\n",
       "      <td>3.0</td>\n",
       "      <td>2.0</td>\n",
       "      <td>1.0</td>\n",
       "      <td>0.0</td>\n",
       "      <td>0.0</td>\n",
       "      <td>40.0</td>\n",
       "      <td>b'United-States'</td>\n",
       "    </tr>\n",
       "    <tr>\n",
       "      <td>1</td>\n",
       "      <td>38.0</td>\n",
       "      <td>b'Private'</td>\n",
       "      <td>89814.0</td>\n",
       "      <td>11.0</td>\n",
       "      <td>9.0</td>\n",
       "      <td>2.0</td>\n",
       "      <td>b'Farming-fishing'</td>\n",
       "      <td>0.0</td>\n",
       "      <td>4.0</td>\n",
       "      <td>1.0</td>\n",
       "      <td>0.0</td>\n",
       "      <td>0.0</td>\n",
       "      <td>50.0</td>\n",
       "      <td>b'United-States'</td>\n",
       "    </tr>\n",
       "    <tr>\n",
       "      <td>2</td>\n",
       "      <td>28.0</td>\n",
       "      <td>b'Local-gov'</td>\n",
       "      <td>336951.0</td>\n",
       "      <td>7.0</td>\n",
       "      <td>12.0</td>\n",
       "      <td>2.0</td>\n",
       "      <td>b'Protective-serv'</td>\n",
       "      <td>0.0</td>\n",
       "      <td>4.0</td>\n",
       "      <td>1.0</td>\n",
       "      <td>0.0</td>\n",
       "      <td>0.0</td>\n",
       "      <td>40.0</td>\n",
       "      <td>b'United-States'</td>\n",
       "    </tr>\n",
       "    <tr>\n",
       "      <td>3</td>\n",
       "      <td>44.0</td>\n",
       "      <td>b'Private'</td>\n",
       "      <td>160323.0</td>\n",
       "      <td>15.0</td>\n",
       "      <td>10.0</td>\n",
       "      <td>2.0</td>\n",
       "      <td>b'Machine-op-inspct'</td>\n",
       "      <td>0.0</td>\n",
       "      <td>2.0</td>\n",
       "      <td>1.0</td>\n",
       "      <td>7688.0</td>\n",
       "      <td>0.0</td>\n",
       "      <td>40.0</td>\n",
       "      <td>b'United-States'</td>\n",
       "    </tr>\n",
       "    <tr>\n",
       "      <td>4</td>\n",
       "      <td>18.0</td>\n",
       "      <td>NaN</td>\n",
       "      <td>103497.0</td>\n",
       "      <td>15.0</td>\n",
       "      <td>10.0</td>\n",
       "      <td>4.0</td>\n",
       "      <td>NaN</td>\n",
       "      <td>3.0</td>\n",
       "      <td>4.0</td>\n",
       "      <td>0.0</td>\n",
       "      <td>0.0</td>\n",
       "      <td>0.0</td>\n",
       "      <td>30.0</td>\n",
       "      <td>b'United-States'</td>\n",
       "    </tr>\n",
       "  </tbody>\n",
       "</table>\n",
       "</div>"
      ],
      "text/plain": [
       "    age     workclass    fnlwgt  education  education-num  marital-status  \\\n",
       "0  25.0    b'Private'  226802.0        1.0            7.0             4.0   \n",
       "1  38.0    b'Private'   89814.0       11.0            9.0             2.0   \n",
       "2  28.0  b'Local-gov'  336951.0        7.0           12.0             2.0   \n",
       "3  44.0    b'Private'  160323.0       15.0           10.0             2.0   \n",
       "4  18.0           NaN  103497.0       15.0           10.0             4.0   \n",
       "\n",
       "             occupation  relationship  race  sex  capital-gain  capital-loss  \\\n",
       "0  b'Machine-op-inspct'           3.0   2.0  1.0           0.0           0.0   \n",
       "1    b'Farming-fishing'           0.0   4.0  1.0           0.0           0.0   \n",
       "2    b'Protective-serv'           0.0   4.0  1.0           0.0           0.0   \n",
       "3  b'Machine-op-inspct'           0.0   2.0  1.0        7688.0           0.0   \n",
       "4                   NaN           3.0   4.0  0.0           0.0           0.0   \n",
       "\n",
       "   hours-per-week    native-country  \n",
       "0            40.0  b'United-States'  \n",
       "1            50.0  b'United-States'  \n",
       "2            40.0  b'United-States'  \n",
       "3            40.0  b'United-States'  \n",
       "4            30.0  b'United-States'  "
      ]
     },
     "execution_count": 132,
     "metadata": {},
     "output_type": "execute_result"
    }
   ],
   "source": [
    "from sklearn.preprocessing import LabelEncoder\n",
    "from sklearn.neighbors import KNeighborsRegressor\n",
    "\n",
    "label_encoders = []\n",
    "label_encoded_features = np.zeros(shape=(df.shape[0], len(categorical_features)))\n",
    "\n",
    "for i, feature in enumerate(categorical_features):\n",
    "    label_encoders.append(LabelEncoder())\n",
    "    label_encoded_features[:, i] = label_encoders[i].fit_transform(df[feature])\n",
    "\n",
    "df[categorical_features] = label_encoded_features\n",
    "df.head()"
   ]
  },
  {
   "cell_type": "markdown",
   "metadata": {},
   "source": [
    "### Outliers"
   ]
  },
  {
   "cell_type": "markdown",
   "metadata": {},
   "source": [
    "Before normalizing or standarizing the numerical data we must check the possible presence of outliers. *E.g.* If we don't do this analysis, when calculating the mean and std to standarize we may have into account it may appear shifted due to some points that differ significantly from the distribution."
   ]
  },
  {
   "cell_type": "code",
   "execution_count": 133,
   "metadata": {},
   "outputs": [
    {
     "data": {
      "image/png": "[encoded data removed]",
      "text/plain": [
       "<Figure size 1080x720 with 6 Axes>"
      ]
     },
     "metadata": {
      "needs_background": "light"
     },
     "output_type": "display_data"
    }
   ],
   "source": [
    "f, ax = plt.subplots(3, 2, figsize=(15, 10))\n",
    "\n",
    "df.boxplot('age',            ax=ax[0][0])\n",
    "df.boxplot('fnlwgt',         ax=ax[0][1])\n",
    "df.boxplot('education-num',  ax=ax[1][0])\n",
    "df.boxplot('capital-gain',   ax=ax[1][1])\n",
    "df.boxplot('capital-loss',   ax=ax[2][0])\n",
    "df.boxplot('hours-per-week', ax=ax[2][1])\n",
    "\n",
    "plt.show()"
   ]
  },
  {
   "cell_type": "markdown",
   "metadata": {},
   "source": [
    "### Categorical Attributes"
   ]
  },
  {
   "cell_type": "markdown",
   "metadata": {},
   "source": [
    "The categorical attributes are:\n",
    "- workclass\n",
    "- education\n",
    "- marital-status\n",
    "- ocupation\n",
    "- relationship\n",
    "- race\n",
    "- sex\n",
    "- native-country"
   ]
  },
  {
   "cell_type": "code",
   "execution_count": 139,
   "metadata": {
    "scrolled": true
   },
   "outputs": [
    {
     "ename": "IndexError",
     "evalue": "Index dimension must be <= 2",
     "traceback": [
      "\u001b[0;31m---------------------------------------------------------------------------\u001b[0m",
      "\u001b[0;31mIndexError\u001b[0m                                Traceback (most recent call last)",
      "\u001b[0;32m<ipython-input-139-c638cf46e817>\u001b[0m in \u001b[0;36m<module>\u001b[0;34m\u001b[0m\n\u001b[1;32m      3\u001b[0m \u001b[0;34m\u001b[0m\u001b[0m\n\u001b[1;32m      4\u001b[0m \u001b[0;32mfor\u001b[0m \u001b[0mfeat\u001b[0m \u001b[0;32min\u001b[0m \u001b[0mcategorical_features\u001b[0m\u001b[0;34m:\u001b[0m\u001b[0;34m\u001b[0m\u001b[0;34m\u001b[0m\u001b[0m\n\u001b[0;32m----> 5\u001b[0;31m     \u001b[0mprint\u001b[0m\u001b[0;34m(\u001b[0m\u001b[0;34mf'{feat:14} has {len(df[feat].unique()):2} unique values'\u001b[0m\u001b[0;34m)\u001b[0m\u001b[0;34m\u001b[0m\u001b[0;34m\u001b[0m\u001b[0m\n\u001b[0m",
      "\u001b[0;32m~/Envs/IML-TTUOv7jC/lib/python3.7/site-packages/scipy/sparse/_index.py\u001b[0m in \u001b[0;36m__getitem__\u001b[0;34m(self, key)\u001b[0m\n",
      "\u001b[0;32m~/Envs/IML-TTUOv7jC/lib/python3.7/site-packages/scipy/sparse/_index.py\u001b[0m in \u001b[0;36m_validate_indices\u001b[0;34m(self, key)\u001b[0m\n",
      "\u001b[0;32m~/Envs/IML-TTUOv7jC/lib/python3.7/site-packages/scipy/sparse/_index.py\u001b[0m in \u001b[0;36m_asindices\u001b[0;34m(self, idx, length)\u001b[0m\n",
      "\u001b[0;31mIndexError\u001b[0m: Index dimension must be <= 2"
     ],
     "output_type": "error"
    }
   ],
   "source": [
    "for feat in categorical_features:\n",
    "    print(f'{feat:14} has {len(df[feat].unique()):2} unique values')"
   ]
  },
  {
   "cell_type": "code",
   "execution_count": 140,
   "metadata": {
    "scrolled": true
   },
   "outputs": [
    {
     "ename": "TypeError",
     "evalue": "cannot perform reduce with flexible type",
     "traceback": [
      "\u001b[0;31m---------------------------------------------------------------------------\u001b[0m",
      "\u001b[0;31mTypeError\u001b[0m                                 Traceback (most recent call last)",
      "\u001b[0;32m<ipython-input-140-b074a4747bfa>\u001b[0m in \u001b[0;36m<module>\u001b[0;34m\u001b[0m\n\u001b[1;32m      2\u001b[0m \u001b[0;34m\u001b[0m\u001b[0m\n\u001b[1;32m      3\u001b[0m \u001b[0mohe\u001b[0m \u001b[0;34m=\u001b[0m \u001b[0mOneHotEncoder\u001b[0m\u001b[0;34m(\u001b[0m\u001b[0mhandle_unknown\u001b[0m\u001b[0;34m=\u001b[0m\u001b[0;34m'ignore'\u001b[0m\u001b[0;34m)\u001b[0m\u001b[0;34m\u001b[0m\u001b[0;34m\u001b[0m\u001b[0m\n\u001b[0;32m----> 4\u001b[0;31m \u001b[0mdf\u001b[0m \u001b[0;34m=\u001b[0m \u001b[0mohe\u001b[0m\u001b[0;34m.\u001b[0m\u001b[0mfit_transform\u001b[0m\u001b[0;34m(\u001b[0m\u001b[0mdf\u001b[0m\u001b[0;34m[\u001b[0m\u001b[0mcategorical_features\u001b[0m\u001b[0;34m[\u001b[0m\u001b[0;36m4\u001b[0m\u001b[0;34m:\u001b[0m\u001b[0;36m5\u001b[0m\u001b[0;34m]\u001b[0m\u001b[0;34m]\u001b[0m\u001b[0;34m)\u001b[0m\u001b[0;34m\u001b[0m\u001b[0;34m\u001b[0m\u001b[0m\n\u001b[0m\u001b[1;32m      5\u001b[0m \u001b[0;34m\u001b[0m\u001b[0m\n\u001b[1;32m      6\u001b[0m \u001b[0mdf\u001b[0m\u001b[0;34m\u001b[0m\u001b[0;34m\u001b[0m\u001b[0m\n",
      "\u001b[0;32m~/Envs/IML-TTUOv7jC/lib/python3.7/site-packages/scipy/sparse/_index.py\u001b[0m in \u001b[0;36m__getitem__\u001b[0;34m(self, key)\u001b[0m\n",
      "\u001b[0;32m~/Envs/IML-TTUOv7jC/lib/python3.7/site-packages/scipy/sparse/_index.py\u001b[0m in \u001b[0;36m_validate_indices\u001b[0;34m(self, key)\u001b[0m\n",
      "\u001b[0;32m~/Envs/IML-TTUOv7jC/lib/python3.7/site-packages/scipy/sparse/_index.py\u001b[0m in \u001b[0;36m_asindices\u001b[0;34m(self, idx, length)\u001b[0m\n",
      "\u001b[0;32m~/Envs/IML-TTUOv7jC/lib/python3.7/site-packages/numpy/core/_methods.py\u001b[0m in \u001b[0;36m_amax\u001b[0;34m(a, axis, out, keepdims, initial, where)\u001b[0m\n",
      "\u001b[0;31mTypeError\u001b[0m: cannot perform reduce with flexible type"
     ],
     "output_type": "error"
    }
   ],
   "source": [
    "from sklearn.preprocessing import OneHotEncoder\n",
    "\n",
    "ohe = OneHotEncoder(handle_unknown='ignore')\n",
    "df = ohe.fit_transform(df[categorical_features[4:5]])\n",
    "\n",
    "df"
   ]
  },
  {
   "cell_type": "markdown",
   "metadata": {},
   "source": [
    "### Numerical Attributes"
   ]
  },
  {
   "cell_type": "markdown",
   "metadata": {},
   "source": [
    "The numerical features are.\n",
    "- age\n",
    "- fnlwgt\n",
    "- education-num\n",
    "- capital-gain\n",
    "- capital-loss\n",
    "- hours-per-week"
   ]
  },
  {
   "cell_type": "code",
   "execution_count": 142,
   "metadata": {},
   "outputs": [
    {
     "name": "stdout",
     "output_type": "stream",
     "text": [
      "Range(age) in [17.0, 90.0]\n",
      "Range(fnlwgt) in [12285.0, 1490400.0]\n",
      "Range(education-num) in [1.0, 16.0]\n",
      "Range(capital-gain) in [0.0, 99999.0]\n",
      "Range(capital-loss) in [0.0, 4356.0]\n",
      "Range(hours-per-week) in [1.0, 99.0]\n"
     ]
    }
   ],
   "source": [
    "for feat in numerical_features:\n",
    "    print(f'Range({feat}) in [{df[feat].min()}, {df[feat].max()}]')"
   ]
  },
  {
   "cell_type": "code",
   "execution_count": 151,
   "metadata": {},
   "outputs": [],
   "source": [
    "from sklearn.preprocessing import MinMaxScaler\n",
    "\n",
    "scaler = MinMaxScaler()\n",
    "df[numerical_features] = scaler.fit_transform(df[numerical_features])"
   ]
  },
  {
   "cell_type": "markdown",
   "metadata": {},
   "source": [
    "# Agglomerative Clustering"
   ]
  },
  {
   "cell_type": "code",
   "execution_count": 120,
   "metadata": {},
   "outputs": [],
   "source": [
    "from sklearn.cluster import AgglomerativeClustering\n",
    "\n",
    "linkages = ['complete', 'average', 'single']\n",
    "affinities = ['euclidean', 'cosine']\n",
    "\n",
    "for linkage in linkages:\n",
    "    for affinity in affinities:\n",
    "        ac = AgglomerativeClustering(affinity=affinity, linkage=linkage)"
   ]
  }
 ],
 "metadata": {
  "kernelspec": {
   "display_name": "Python 3",
   "language": "python",
   "name": "python3"
  },
  "language_info": {
   "codemirror_mode": {
    "name": "ipython",
    "version": 3.0
   },
   "file_extension": ".py",
   "mimetype": "text/x-python",
   "name": "python",
   "nbconvert_exporter": "python",
   "pygments_lexer": "ipython3",
   "version": "3.6.0"
  }
 },
 "nbformat": 4,
 "nbformat_minor": 0
}