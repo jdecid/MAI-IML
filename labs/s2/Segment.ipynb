{
 "cells": [
  {
   "cell_type": "markdown",
   "metadata": {},
   "source": [
    "# Segment\n",
    "\n"
   ]
  },
  {
   "cell_type": "code",
   "execution_count": 7,
   "metadata": {},
   "outputs": [],
   "source": [
    "# Imports\n",
    "from scipy.io import arff\n",
    "import io\n",
    "import math"
   ]
  },
  {
   "cell_type": "code",
   "execution_count": 6,
   "metadata": {},
   "outputs": [
    {
     "name": "stdout",
     "output_type": "stream",
     "text": [
      "[(218., 178., 9., 0.111111, 0., 0.833333, 0.547722 , 1.11111 , 0.544331 ,  59.6296  ,  52.4444 ,  75.2222 , 5.12222e+01, -21.5556  , 46.7778 , -25.2222 ,  75.2222 , 0.318996, -2.04055, b'path')\n",
      " (113., 130., 9., 0.      , 0., 0.277778, 0.250924 , 0.333333, 0.365148 ,   0.888889,   0.     ,   2.55556, 1.11111e-01,  -2.66667 ,  5.     ,  -2.33333,   2.55556, 1.      , -2.12325, b'foliage')\n",
      " (202.,  41., 9., 0.      , 0., 0.944448, 0.772202 , 1.11111 , 1.0256   , 123.037   , 111.889  , 139.778  , 1.17444e+02, -33.4444  , 50.2222 , -16.7778 , 139.778  , 0.199347, -2.29992, b'sky')\n",
      " ...\n",
      " ( 80.,  72., 9., 0.      , 0., 1.22222 , 1.0037   , 1.44444 , 1.16746  ,  59.      ,  51.3333 ,  74.4444 , 5.12222e+01, -23.      , 46.3333 , -23.3333 ,  74.4444 , 0.314606, -2.09022, b'cement')\n",
      " ( 98., 133., 9., 0.      , 0., 0.555555, 0.172133 , 0.388889, 0.327731 ,   0.962963,   0.     ,   2.77778, 1.11111e-01,  -2.88889 ,  5.44444,  -2.55556,   2.77778, 1.      , -2.12325, b'foliage')\n",
      " ( 19., 147., 9., 0.      , 0., 0.222222, 0.0740741, 0.5     , 0.0777778,   4.14815 ,   3.88889,   6.66667, 1.88889e+00,  -0.777778,  7.55556,  -6.77778,   7.     , 0.713228, -1.47564, b'brickface')]\n",
      "Dataset: segment\n",
      "\tregion-centroid-col's type is numeric\n",
      "\tregion-centroid-row's type is numeric\n",
      "\tregion-pixel-count's type is numeric\n",
      "\tshort-line-density-5's type is numeric\n",
      "\tshort-line-density-2's type is numeric\n",
      "\tvedge-mean's type is numeric\n",
      "\tvegde-sd's type is numeric\n",
      "\thedge-mean's type is numeric\n",
      "\thedge-sd's type is numeric\n",
      "\tintensity-mean's type is numeric\n",
      "\trawred-mean's type is numeric\n",
      "\trawblue-mean's type is numeric\n",
      "\trawgreen-mean's type is numeric\n",
      "\texred-mean's type is numeric\n",
      "\texblue-mean's type is numeric\n",
      "\texgreen-mean's type is numeric\n",
      "\tvalue-mean's type is numeric\n",
      "\tsaturation-mean's type is numeric\n",
      "\thue-mean's type is numeric\n",
      "\tclass's type is nominal, range is ('brickface', 'sky', 'foliage', 'cement', 'window', 'path', 'grass')\n",
      "\n"
     ]
    }
   ],
   "source": [
    "# Import data\n",
    "with open('datasets/segment.arff') as f:\n",
    "    data, meta = arff.loadarff(f)\n",
    "    print(data)\n",
    "    print(meta)"
   ]
  },
  {
   "cell_type": "code",
   "execution_count": 10,
   "metadata": {},
   "outputs": [
    {
     "name": "stdout",
     "output_type": "stream",
     "text": [
      "mins: [1.0, 11.0, 9.0, 0.0, 0.0, 0.0, 0.0, 0.0, -1.58946e-08, 0.0, 0.0, 0.0, 0.0, -49.6667, -12.4444, -33.8889, 0.0, 0.0, -3.04418]\n",
      "maxs: [254.0, 251.0, 9.0, 0.333333, 0.222222, 29.2222, 991.718, 44.7222, 1386.33, 143.444, 137.111, 150.889, 142.556, 9.88889, 82.0, 24.6667, 150.889, 1.0, 2.91248]\n",
      "averages: [124.91385281385281, 123.41731601731601, 9.0, 0.014333800000000039, 0.004713799999999997, 1.8939396374025965, 5.709320189567099, 2.424723303939391, 8.243692250685779, 37.05159498454542, 32.821308660606086, 44.18787736536794, 34.14560084588746, -12.69086035930738, 21.408850101298725, -8.717989327272736, 45.13746841298702, 0.4268929772727281, -1.3628969536536808]\n"
     ]
    }
   ],
   "source": [
    "p = len(data[0]) - 1 #number of features\n",
    "n = len(data) #number of points\n",
    "mins = [math.inf] * p\n",
    "maxs = [-math.inf] * p\n",
    "avgs = [0] * p\n",
    "for x in data:\n",
    "    for j in range(p):\n",
    "        mins[j] = min(mins[j], x[j])\n",
    "        maxs[j] = max(maxs[j], x[j])\n",
    "        avgs[j] += x[j]\n",
    "\n",
    "for i in range(p):\n",
    "    avgs[i]  = avgs[i]/n\n",
    "    \n",
    "print('mins:', mins)\n",
    "print('maxs:', maxs)\n",
    "print('averages:', avgs)"
   ]
  },
  {
   "cell_type": "markdown",
   "metadata": {},
   "source": [
    "## About the features\n",
    "\n",
    "From the database:\n",
    "\n",
    "`\n",
    "% 7. Attribute Information:\n",
    "%\n",
    "%     1.  region-centroid-col:  the column of the center pixel of the region.\n",
    "%     2.  region-centroid-row:  the row of the center pixel of the region.\n",
    "%     3.  region-pixel-count:  the number of pixels in a region = 9.\n",
    "%     4.  short-line-density-5:  the results of a line extractoin algorithm that\n",
    "%          counts how many lines of length 5 (any orientation) with\n",
    "%          low contrast, less than or equal to 5, go through the region.\n",
    "%     5.  short-line-density-2:  same as short-line-density-5 but counts lines\n",
    "%          of high contrast, greater than 5.\n",
    "%     6.  vedge-mean:  measure the contrast of horizontally\n",
    "%          adjacent pixels in the region.  There are 6, the mean and\n",
    "%          standard deviation are given.  This attribute is used as\n",
    "%         a vertical edge detector.\n",
    "%     7.  vegde-sd:  (see 6)\n",
    "%     8.  hedge-mean:  measures the contrast of vertically adjacent\n",
    "%           pixels. Used for horizontal line detection.\n",
    "%     9.  hedge-sd: (see 8).\n",
    "%     10. intensity-mean:  the average over the region of (R + G + B)/3\n",
    "%     11. rawred-mean: the average over the region of the R value.\n",
    "%     12. rawblue-mean: the average over the region of the B value.\n",
    "%     13. rawgreen-mean: the average over the region of the G value.\n",
    "%     14. exred-mean: measure the excess red:  (2R - (G + B))\n",
    "%     15. exblue-mean: measure the excess blue:  (2B - (G + R))\n",
    "%     16. exgreen-mean: measure the excess green:  (2G - (R + B))\n",
    "%     17. value-mean:  3-d nonlinear transformation\n",
    "%          of RGB. (Algorithm can be found in Foley and VanDam, Fundamentals\n",
    "%          of Interactive Computer Graphics)\n",
    "%     18. saturatoin-mean:  (see 17)\n",
    "%     19. hue-mean:  (see 17)\n",
    "`\n",
    "\n",
    "- sklearn normalize\n",
    "- no need to treat different types fo data (all numerical)\n",
    "- no need to treat missing values (no missing values in this dataset according to problem statement)"
   ]
  }
 ],
 "metadata": {
  "kernelspec": {
   "display_name": "Python 3",
   "language": "python",
   "name": "python3"
  },
  "language_info": {
   "codemirror_mode": {
    "name": "ipython",
    "version": 3
   },
   "file_extension": ".py",
   "mimetype": "text/x-python",
   "name": "python",
   "nbconvert_exporter": "python",
   "pygments_lexer": "ipython3",
   "version": "3.6.0"
  }
 },
 "nbformat": 4,
 "nbformat_minor": 2
}
