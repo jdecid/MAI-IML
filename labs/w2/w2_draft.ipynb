{
 "cells": [
  {
   "cell_type": "markdown",
   "metadata": {},
   "source": [
    "# W2: PCA and SOM\n",
    "\n",
    "#### PCA\n",
    "1. Reduce dimensionality with PCA\n",
    "2. Analyse K-Prototype with and without dimensionality reduction\n",
    "\n",
    "#### SOM\n",
    "3. Analyse SOM as a clustering algorithm\n",
    "4. Compare K-Prototype and SOM\n",
    "\n",
    "\n",
    "Maximum number of pages: 16!\n",
    "(alguns locos en el primer projecte n'han fet 60 xD)\n",
    "\n",
    "-----------------\n",
    "\n",
    "## PCA"
   ]
  },
  {
   "cell_type": "code",
   "execution_count": 20,
   "metadata": {
    "ExecuteTime": {
     "end_time": "2019-11-05T11:49:29.585949Z",
     "start_time": "2019-11-05T11:49:29.579744Z"
    }
   },
   "outputs": [],
   "source": [
    "from utils.dataset import read_dataset\n",
    "\n",
    "import os\n",
    "\n",
    "import pandas as pd\n",
    "from sklearn.preprocessing import MinMaxScaler\n",
    "import matplotlib.pyplot as plt\n",
    "import seaborn as sns # for plotting categorical data\n"
   ]
  },
  {
   "cell_type": "code",
   "execution_count": 21,
   "metadata": {
    "ExecuteTime": {
     "end_time": "2019-11-05T11:49:34.160416Z",
     "start_time": "2019-11-05T11:49:31.963460Z"
    }
   },
   "outputs": [
    {
     "data": {
      "text/html": [
       "<div>\n",
       "<style scoped>\n",
       "    .dataframe tbody tr th:only-of-type {\n",
       "        vertical-align: middle;\n",
       "    }\n",
       "\n",
       "    .dataframe tbody tr th {\n",
       "        vertical-align: top;\n",
       "    }\n",
       "\n",
       "    .dataframe thead th {\n",
       "        text-align: right;\n",
       "    }\n",
       "</style>\n",
       "<table border=\"1\" class=\"dataframe\">\n",
       "  <thead>\n",
       "    <tr style=\"text-align: right;\">\n",
       "      <th></th>\n",
       "      <th>age</th>\n",
       "      <th>workclass</th>\n",
       "      <th>fnlwgt</th>\n",
       "      <th>education</th>\n",
       "      <th>education-num</th>\n",
       "      <th>marital-status</th>\n",
       "      <th>occupation</th>\n",
       "      <th>relationship</th>\n",
       "      <th>race</th>\n",
       "      <th>sex</th>\n",
       "      <th>capital-gain</th>\n",
       "      <th>capital-loss</th>\n",
       "      <th>hours-per-week</th>\n",
       "      <th>native-country</th>\n",
       "    </tr>\n",
       "  </thead>\n",
       "  <tbody>\n",
       "    <tr>\n",
       "      <th>0</th>\n",
       "      <td>31.0</td>\n",
       "      <td>Private</td>\n",
       "      <td>224234.0</td>\n",
       "      <td>HS-grad</td>\n",
       "      <td>9.0</td>\n",
       "      <td>Never-married</td>\n",
       "      <td>Transport-moving</td>\n",
       "      <td>Own-child</td>\n",
       "      <td>Black</td>\n",
       "      <td>Male</td>\n",
       "      <td>0.0</td>\n",
       "      <td>0.0</td>\n",
       "      <td>40.0</td>\n",
       "      <td>United-States</td>\n",
       "    </tr>\n",
       "    <tr>\n",
       "      <th>1</th>\n",
       "      <td>25.0</td>\n",
       "      <td>Private</td>\n",
       "      <td>149486.0</td>\n",
       "      <td>HS-grad</td>\n",
       "      <td>9.0</td>\n",
       "      <td>Never-married</td>\n",
       "      <td>Machine-op-inspct</td>\n",
       "      <td>Unmarried</td>\n",
       "      <td>Black</td>\n",
       "      <td>Male</td>\n",
       "      <td>0.0</td>\n",
       "      <td>0.0</td>\n",
       "      <td>40.0</td>\n",
       "      <td>United-States</td>\n",
       "    </tr>\n",
       "    <tr>\n",
       "      <th>2</th>\n",
       "      <td>36.0</td>\n",
       "      <td>Self-emp-not-inc</td>\n",
       "      <td>343721.0</td>\n",
       "      <td>Doctorate</td>\n",
       "      <td>16.0</td>\n",
       "      <td>Never-married</td>\n",
       "      <td>Prof-specialty</td>\n",
       "      <td>Not-in-family</td>\n",
       "      <td>White</td>\n",
       "      <td>Male</td>\n",
       "      <td>0.0</td>\n",
       "      <td>0.0</td>\n",
       "      <td>30.0</td>\n",
       "      <td>?</td>\n",
       "    </tr>\n",
       "    <tr>\n",
       "      <th>3</th>\n",
       "      <td>26.0</td>\n",
       "      <td>?</td>\n",
       "      <td>131777.0</td>\n",
       "      <td>Bachelors</td>\n",
       "      <td>13.0</td>\n",
       "      <td>Married-civ-spouse</td>\n",
       "      <td>?</td>\n",
       "      <td>Husband</td>\n",
       "      <td>White</td>\n",
       "      <td>Male</td>\n",
       "      <td>0.0</td>\n",
       "      <td>2002.0</td>\n",
       "      <td>40.0</td>\n",
       "      <td>United-States</td>\n",
       "    </tr>\n",
       "    <tr>\n",
       "      <th>4</th>\n",
       "      <td>30.0</td>\n",
       "      <td>Local-gov</td>\n",
       "      <td>44566.0</td>\n",
       "      <td>Bachelors</td>\n",
       "      <td>13.0</td>\n",
       "      <td>Married-civ-spouse</td>\n",
       "      <td>Prof-specialty</td>\n",
       "      <td>Husband</td>\n",
       "      <td>White</td>\n",
       "      <td>Male</td>\n",
       "      <td>0.0</td>\n",
       "      <td>0.0</td>\n",
       "      <td>40.0</td>\n",
       "      <td>United-States</td>\n",
       "    </tr>\n",
       "  </tbody>\n",
       "</table>\n",
       "</div>"
      ],
      "text/plain": [
       "    age         workclass    fnlwgt  education  education-num  \\\n",
       "0  31.0           Private  224234.0    HS-grad            9.0   \n",
       "1  25.0           Private  149486.0    HS-grad            9.0   \n",
       "2  36.0  Self-emp-not-inc  343721.0  Doctorate           16.0   \n",
       "3  26.0                 ?  131777.0  Bachelors           13.0   \n",
       "4  30.0         Local-gov   44566.0  Bachelors           13.0   \n",
       "\n",
       "       marital-status         occupation   relationship   race   sex  \\\n",
       "0       Never-married   Transport-moving      Own-child  Black  Male   \n",
       "1       Never-married  Machine-op-inspct      Unmarried  Black  Male   \n",
       "2       Never-married     Prof-specialty  Not-in-family  White  Male   \n",
       "3  Married-civ-spouse                  ?        Husband  White  Male   \n",
       "4  Married-civ-spouse     Prof-specialty        Husband  White  Male   \n",
       "\n",
       "   capital-gain  capital-loss  hours-per-week native-country  \n",
       "0           0.0           0.0            40.0  United-States  \n",
       "1           0.0           0.0            40.0  United-States  \n",
       "2           0.0           0.0            30.0              ?  \n",
       "3           0.0        2002.0            40.0  United-States  \n",
       "4           0.0           0.0            40.0  United-States  "
      ]
     },
     "execution_count": 21,
     "metadata": {},
     "output_type": "execute_result"
    }
   ],
   "source": [
    "dataset = read_dataset('adult')\n",
    "data = dataset['data']\n",
    "\n",
    "df = pd.DataFrame(data)\n",
    "df = df.sample(n=5000, replace=False, random_state=1).reset_index(drop=True)\n",
    "\n",
    "df = df.applymap(lambda x: x.decode('utf-8') if isinstance(x, bytes) else x)\n",
    "\n",
    "# Real Y labels\n",
    "y = df['class'].copy()\n",
    "x = df.drop(columns=['class'])\n",
    "\n",
    "categorical_features = ['workclass',\n",
    "                        'education',\n",
    "                        'marital-status',\n",
    "                        'occupation',\n",
    "                        'relationship',\n",
    "                        'race',\n",
    "                        'sex',\n",
    "                        'native-country']\n",
    "\n",
    "numerical_features = ['age',\n",
    "                      'fnlwgt',\n",
    "                      'education-num',\n",
    "                      'capital-gain',\n",
    "                      'capital-loss',\n",
    "                      'hours-per-week']\n",
    "\n",
    "x.head()"
   ]
  },
  {
   "cell_type": "code",
   "execution_count": 25,
   "metadata": {
    "ExecuteTime": {
     "end_time": "2019-11-05T11:51:55.908575Z",
     "start_time": "2019-11-05T11:51:55.104960Z"
    }
   },
   "outputs": [
    {
     "data": {
      "image/png": "[encoded data removed]",
      "text/plain": [
       "<Figure size 360x360 with 1 Axes>"
      ]
     },
     "metadata": {},
     "output_type": "display_data"
    }
   ],
   "source": [
    "#fig, ax = plt.subplots(ncols=2, nrows=2, figsize=(15,10))\n",
    "\n",
    "#x.plot(x=numerical_features[0], y=numerical_features[1], kind='scatter', ax=ax[0][0])\n",
    "#x.plot(x=numerical_features[2], y=numerical_features[3], kind='scatter', ax=ax[0][1])\n",
    "#x.plot(x=numerical_features[4], y=numerical_features[5], kind='scatter', ax=ax[1][0])\n",
    "\n",
    "sns.set(style=\"ticks\", color_codes=True)\n",
    "sns.catplot(x=categorical_features[0], y=numerical_features[0], jitter=False, data=x);\n"
   ]
  }
 ],
 "metadata": {
  "hide_input": false,
  "kernelspec": {
   "display_name": "Python 3",
   "language": "python",
   "name": "python3"
  },
  "language_info": {
   "codemirror_mode": {
    "name": "ipython",
    "version": 3
   },
   "file_extension": ".py",
   "mimetype": "text/x-python",
   "name": "python",
   "nbconvert_exporter": "python",
   "pygments_lexer": "ipython3",
   "version": "3.6.0"
  }
 },
 "nbformat": 4,
 "nbformat_minor": 2
}
