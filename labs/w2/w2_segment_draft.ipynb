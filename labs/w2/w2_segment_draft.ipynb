{
 "cells": [
  {
   "cell_type": "markdown",
   "metadata": {},
   "source": [
    "# W2: PCA and SOM\n",
    "\n",
    "#### PCA\n",
    "1. Reduce dimensionality with PCA\n",
    "2. Analyse K-Prototype with and without dimensionality reduction\n",
    "\n",
    "#### SOM\n",
    "3. Analyse SOM as a clustering algorithm\n",
    "4. Compare K-Prototype and SOM\n",
    "\n",
    "\n",
    "Maximum number of pages: 16!\n",
    "(alguns locos en el primer projecte n'han fet 60 xD)\n",
    "\n",
    "-----------------\n",
    "\n",
    "## PCA"
   ]
  },
  {
   "cell_type": "code",
   "execution_count": 11,
   "metadata": {
    "ExecuteTime": {
     "end_time": "2019-11-06T18:22:32.408963Z",
     "start_time": "2019-11-06T18:22:32.401982Z"
    }
   },
   "outputs": [],
   "source": [
    "from utils.dataset import read_dataset\n",
    "\n",
    "import os\n",
    "\n",
    "import numpy as np\n",
    "import pandas as pd\n",
    "from sklearn.preprocessing import MinMaxScaler\n",
    "import matplotlib.pyplot as plt\n",
    "#import seaborn as sns # for plotting categorical data\n"
   ]
  },
  {
   "cell_type": "markdown",
   "metadata": {},
   "source": [
    "- Step 1. Read the .arff file and take the whole data set consisting of d-dimensional samples\n",
    "ignoring the class labels. Save the information in a matrix."
   ]
  },
  {
   "cell_type": "code",
   "execution_count": 3,
   "metadata": {
    "ExecuteTime": {
     "end_time": "2019-11-06T18:17:27.203259Z",
     "start_time": "2019-11-06T18:17:27.077264Z"
    }
   },
   "outputs": [
    {
     "data": {
      "text/html": [
       "<div>\n",
       "<style scoped>\n",
       "    .dataframe tbody tr th:only-of-type {\n",
       "        vertical-align: middle;\n",
       "    }\n",
       "\n",
       "    .dataframe tbody tr th {\n",
       "        vertical-align: top;\n",
       "    }\n",
       "\n",
       "    .dataframe thead th {\n",
       "        text-align: right;\n",
       "    }\n",
       "</style>\n",
       "<table border=\"1\" class=\"dataframe\">\n",
       "  <thead>\n",
       "    <tr style=\"text-align: right;\">\n",
       "      <th></th>\n",
       "      <th>region-centroid-col</th>\n",
       "      <th>region-centroid-row</th>\n",
       "      <th>short-line-density-5</th>\n",
       "      <th>short-line-density-2</th>\n",
       "      <th>vedge-mean</th>\n",
       "      <th>vegde-sd</th>\n",
       "      <th>hedge-mean</th>\n",
       "      <th>hedge-sd</th>\n",
       "      <th>intensity-mean</th>\n",
       "      <th>rawred-mean</th>\n",
       "      <th>rawblue-mean</th>\n",
       "      <th>rawgreen-mean</th>\n",
       "      <th>exred-mean</th>\n",
       "      <th>exblue-mean</th>\n",
       "      <th>exgreen-mean</th>\n",
       "      <th>value-mean</th>\n",
       "      <th>saturation-mean</th>\n",
       "      <th>hue-mean</th>\n",
       "    </tr>\n",
       "  </thead>\n",
       "  <tbody>\n",
       "    <tr>\n",
       "      <th>0</th>\n",
       "      <td>218.0</td>\n",
       "      <td>178.0</td>\n",
       "      <td>0.111111</td>\n",
       "      <td>0.0</td>\n",
       "      <td>0.833333</td>\n",
       "      <td>0.547722</td>\n",
       "      <td>1.111110</td>\n",
       "      <td>0.544331</td>\n",
       "      <td>59.629600</td>\n",
       "      <td>52.4444</td>\n",
       "      <td>75.22220</td>\n",
       "      <td>51.222200</td>\n",
       "      <td>-21.55560</td>\n",
       "      <td>46.7778</td>\n",
       "      <td>-25.22220</td>\n",
       "      <td>75.22220</td>\n",
       "      <td>0.318996</td>\n",
       "      <td>-2.04055</td>\n",
       "    </tr>\n",
       "    <tr>\n",
       "      <th>1</th>\n",
       "      <td>113.0</td>\n",
       "      <td>130.0</td>\n",
       "      <td>0.000000</td>\n",
       "      <td>0.0</td>\n",
       "      <td>0.277778</td>\n",
       "      <td>0.250924</td>\n",
       "      <td>0.333333</td>\n",
       "      <td>0.365148</td>\n",
       "      <td>0.888889</td>\n",
       "      <td>0.0000</td>\n",
       "      <td>2.55556</td>\n",
       "      <td>0.111111</td>\n",
       "      <td>-2.66667</td>\n",
       "      <td>5.0000</td>\n",
       "      <td>-2.33333</td>\n",
       "      <td>2.55556</td>\n",
       "      <td>1.000000</td>\n",
       "      <td>-2.12325</td>\n",
       "    </tr>\n",
       "    <tr>\n",
       "      <th>2</th>\n",
       "      <td>202.0</td>\n",
       "      <td>41.0</td>\n",
       "      <td>0.000000</td>\n",
       "      <td>0.0</td>\n",
       "      <td>0.944448</td>\n",
       "      <td>0.772202</td>\n",
       "      <td>1.111110</td>\n",
       "      <td>1.025600</td>\n",
       "      <td>123.037000</td>\n",
       "      <td>111.8890</td>\n",
       "      <td>139.77800</td>\n",
       "      <td>117.444000</td>\n",
       "      <td>-33.44440</td>\n",
       "      <td>50.2222</td>\n",
       "      <td>-16.77780</td>\n",
       "      <td>139.77800</td>\n",
       "      <td>0.199347</td>\n",
       "      <td>-2.29992</td>\n",
       "    </tr>\n",
       "    <tr>\n",
       "      <th>3</th>\n",
       "      <td>32.0</td>\n",
       "      <td>173.0</td>\n",
       "      <td>0.000000</td>\n",
       "      <td>0.0</td>\n",
       "      <td>1.722220</td>\n",
       "      <td>1.781590</td>\n",
       "      <td>9.000000</td>\n",
       "      <td>6.749490</td>\n",
       "      <td>43.592600</td>\n",
       "      <td>39.5556</td>\n",
       "      <td>52.88890</td>\n",
       "      <td>38.333300</td>\n",
       "      <td>-12.11110</td>\n",
       "      <td>27.8889</td>\n",
       "      <td>-15.77780</td>\n",
       "      <td>52.88890</td>\n",
       "      <td>0.266914</td>\n",
       "      <td>-1.99886</td>\n",
       "    </tr>\n",
       "    <tr>\n",
       "      <th>4</th>\n",
       "      <td>61.0</td>\n",
       "      <td>197.0</td>\n",
       "      <td>0.000000</td>\n",
       "      <td>0.0</td>\n",
       "      <td>1.444440</td>\n",
       "      <td>1.515350</td>\n",
       "      <td>2.611110</td>\n",
       "      <td>1.925460</td>\n",
       "      <td>49.592600</td>\n",
       "      <td>44.2222</td>\n",
       "      <td>61.55560</td>\n",
       "      <td>43.000000</td>\n",
       "      <td>-16.11110</td>\n",
       "      <td>35.8889</td>\n",
       "      <td>-19.77780</td>\n",
       "      <td>61.55560</td>\n",
       "      <td>0.302925</td>\n",
       "      <td>-2.02227</td>\n",
       "    </tr>\n",
       "  </tbody>\n",
       "</table>\n",
       "</div>"
      ],
      "text/plain": [
       "   region-centroid-col  region-centroid-row  short-line-density-5  \\\n",
       "0                218.0                178.0              0.111111   \n",
       "1                113.0                130.0              0.000000   \n",
       "2                202.0                 41.0              0.000000   \n",
       "3                 32.0                173.0              0.000000   \n",
       "4                 61.0                197.0              0.000000   \n",
       "\n",
       "   short-line-density-2  vedge-mean  vegde-sd  hedge-mean  hedge-sd  \\\n",
       "0                   0.0    0.833333  0.547722    1.111110  0.544331   \n",
       "1                   0.0    0.277778  0.250924    0.333333  0.365148   \n",
       "2                   0.0    0.944448  0.772202    1.111110  1.025600   \n",
       "3                   0.0    1.722220  1.781590    9.000000  6.749490   \n",
       "4                   0.0    1.444440  1.515350    2.611110  1.925460   \n",
       "\n",
       "   intensity-mean  rawred-mean  rawblue-mean  rawgreen-mean  exred-mean  \\\n",
       "0       59.629600      52.4444      75.22220      51.222200   -21.55560   \n",
       "1        0.888889       0.0000       2.55556       0.111111    -2.66667   \n",
       "2      123.037000     111.8890     139.77800     117.444000   -33.44440   \n",
       "3       43.592600      39.5556      52.88890      38.333300   -12.11110   \n",
       "4       49.592600      44.2222      61.55560      43.000000   -16.11110   \n",
       "\n",
       "   exblue-mean  exgreen-mean  value-mean  saturation-mean  hue-mean  \n",
       "0      46.7778     -25.22220    75.22220         0.318996  -2.04055  \n",
       "1       5.0000      -2.33333     2.55556         1.000000  -2.12325  \n",
       "2      50.2222     -16.77780   139.77800         0.199347  -2.29992  \n",
       "3      27.8889     -15.77780    52.88890         0.266914  -1.99886  \n",
       "4      35.8889     -19.77780    61.55560         0.302925  -2.02227  "
      ]
     },
     "execution_count": 3,
     "metadata": {},
     "output_type": "execute_result"
    }
   ],
   "source": [
    "dataset = read_dataset('segment')\n",
    "data = dataset['data']\n",
    "\n",
    "df = pd.DataFrame(data)\n",
    "\n",
    "# Real Y labels\n",
    "y = df['class'].copy()\n",
    "x = df.drop(columns=['class', 'region-pixel-count'])\n",
    "\n",
    "features = x.columns\n",
    "\n",
    "x.head()"
   ]
  },
  {
   "cell_type": "markdown",
   "metadata": {},
   "source": [
    "- Step 2. Plot the original data set (choose two or three of its features to visualize it)."
   ]
  },
  {
   "cell_type": "code",
   "execution_count": 4,
   "metadata": {
    "ExecuteTime": {
     "end_time": "2019-11-06T18:17:32.481241Z",
     "start_time": "2019-11-06T18:17:31.516437Z"
    }
   },
   "outputs": [
    {
     "data": {
      "text/plain": [
       "<matplotlib.axes._subplots.AxesSubplot at 0x258c90e30f0>"
      ]
     },
     "execution_count": 4,
     "metadata": {},
     "output_type": "execute_result"
    },
    {
     "data": {
      "image/png": "[encoded data removed]",
      "text/plain": [
       "<Figure size 1080x720 with 4 Axes>"
      ]
     },
     "metadata": {
      "needs_background": "light"
     },
     "output_type": "display_data"
    }
   ],
   "source": [
    "fig, ax = plt.subplots(ncols=2, nrows=2, figsize=(15,10))\n",
    "\n",
    "x.plot(x=features[0], y=features[1], kind='scatter', ax=ax[0][0])\n",
    "x.plot(x=features[2], y=features[3], kind='scatter', ax=ax[0][1])\n",
    "x.plot(x=features[4], y=features[5], kind='scatter', ax=ax[1][0])\n",
    "x.plot(x=features[6], y=features[7], kind='scatter', ax=ax[1][1])\n",
    "\n",
    "#sns.set(style=\"ticks\", color_codes=True)\n",
    "#sns.catplot(x=categorical_features[0], y=numerical_features[0], jitter=False, data=x);\n"
   ]
  },
  {
   "cell_type": "markdown",
   "metadata": {},
   "source": [
    "- Step 3. Compute the d-dimensional mean vector (i.e., the means of every dimension of the\n",
    "whole data set)."
   ]
  },
  {
   "cell_type": "code",
   "execution_count": 7,
   "metadata": {
    "ExecuteTime": {
     "end_time": "2019-11-06T18:17:56.802622Z",
     "start_time": "2019-11-06T18:17:56.790653Z"
    }
   },
   "outputs": [
    {
     "name": "stdout",
     "output_type": "stream",
     "text": [
      "region-centroid-col     124.913853\n",
      "region-centroid-row     123.417316\n",
      "short-line-density-5      0.014334\n",
      "short-line-density-2      0.004714\n",
      "vedge-mean                1.893940\n",
      "vegde-sd                  5.709320\n",
      "hedge-mean                2.424723\n",
      "hedge-sd                  8.243692\n",
      "intensity-mean           37.051595\n",
      "rawred-mean              32.821309\n",
      "rawblue-mean             44.187877\n",
      "rawgreen-mean            34.145601\n",
      "exred-mean              -12.690860\n",
      "exblue-mean              21.408850\n",
      "exgreen-mean             -8.717989\n",
      "value-mean               45.137468\n",
      "saturation-mean           0.426893\n",
      "hue-mean                 -1.362897\n",
      "dtype: float64\n"
     ]
    }
   ],
   "source": [
    "x_mean = x.mean()\n",
    "print(x_mean)"
   ]
  },
  {
   "cell_type": "markdown",
   "metadata": {},
   "source": [
    "- Step 4. Compute the covariance matrix of the whole data set. Show this information."
   ]
  },
  {
   "cell_type": "code",
   "execution_count": 8,
   "metadata": {
    "ExecuteTime": {
     "end_time": "2019-11-06T18:18:42.396472Z",
     "start_time": "2019-11-06T18:18:42.363416Z"
    }
   },
   "outputs": [
    {
     "name": "stdout",
     "output_type": "stream",
     "text": [
      "                      region-centroid-col  region-centroid-row  \\\n",
      "region-centroid-col           5322.655633           112.261605   \n",
      "region-centroid-row            112.261605          3304.393117   \n",
      "short-line-density-5            -0.152222             0.149783   \n",
      "short-line-density-2            -0.028226             0.058327   \n",
      "vedge-mean                      -2.225818             4.056431   \n",
      "vegde-sd                        71.850743          -138.121234   \n",
      "hedge-mean                      -4.981611            21.835945   \n",
      "hedge-sd                        -8.318749           -71.256534   \n",
      "intensity-mean                 164.209229         -1020.982620   \n",
      "rawred-mean                    139.752925          -942.593399   \n",
      "rawblue-mean                   184.722750         -1204.824892   \n",
      "rawgreen-mean                  168.151916          -915.529726   \n",
      "exred-mean                     -73.368311           235.168142   \n",
      "exblue-mean                     61.539927          -551.526997   \n",
      "exgreen-mean                    11.828341           316.358910   \n",
      "value-mean                     188.478473         -1130.983822   \n",
      "saturation-mean                 -1.802488             1.070354   \n",
      "hue-mean                         4.430603            52.671042   \n",
      "\n",
      "                      short-line-density-5  short-line-density-2  vedge-mean  \\\n",
      "region-centroid-col              -0.152222             -0.028226   -2.225818   \n",
      "region-centroid-row               0.149783              0.058327    4.056431   \n",
      "short-line-density-5              0.001612             -0.000009   -0.002190   \n",
      "short-line-density-2             -0.000009              0.000587    0.017174   \n",
      "vedge-mean                       -0.002190              0.017174    7.284108   \n",
      "vegde-sd                         -0.059032              0.210548   77.154927   \n",
      "hedge-mean                       -0.003086              0.026525    5.451284   \n",
      "hedge-sd                         -0.089729              0.346558   77.513854   \n",
      "intensity-mean                   -0.027916             -0.006394    0.528481   \n",
      "rawred-mean                      -0.023572             -0.010589   -0.518386   \n",
      "rawblue-mean                     -0.037389              0.003247    2.407980   \n",
      "rawgreen-mean                    -0.022785             -0.011840   -0.304143   \n",
      "exred-mean                        0.013029             -0.012584   -3.140598   \n",
      "exblue-mean                      -0.028421              0.028923    5.638482   \n",
      "exgreen-mean                      0.015391             -0.016338   -2.497883   \n",
      "value-mean                       -0.027379             -0.000151    2.102269   \n",
      "saturation-mean                  -0.000396              0.000090   -0.039945   \n",
      "hue-mean                          0.007011             -0.003106   -0.408560   \n",
      "\n",
      "                         vegde-sd  hedge-mean     hedge-sd  intensity-mean  \\\n",
      "region-centroid-col     71.850743   -4.981611    -8.318749      164.209229   \n",
      "region-centroid-row   -138.121234   21.835945   -71.256534    -1020.982620   \n",
      "short-line-density-5    -0.059032   -0.003086    -0.089729       -0.027916   \n",
      "short-line-density-2     0.210548    0.026525     0.346558       -0.006394   \n",
      "vedge-mean              77.154927    5.451284    77.513854        0.528481   \n",
      "vegde-sd              2011.204302   76.257203  1854.283922        5.147173   \n",
      "hedge-mean              76.257203   13.032698   141.864069        4.682093   \n",
      "hedge-sd              1854.283922  141.864069  3458.795810       30.350881   \n",
      "intensity-mean           5.147173    4.682093    30.350881     1457.438249   \n",
      "rawred-mean             -3.359038    3.296069    17.592175     1335.052585   \n",
      "rawblue-mean            13.239647    6.889810    43.260566     1654.758061   \n",
      "rawgreen-mean            5.561045    3.860404    30.200132     1382.504183   \n",
      "exred-mean             -25.518709   -4.158071   -38.276283     -367.157240   \n",
      "exblue-mean             24.277269    6.623147    38.728875      591.959630   \n",
      "exgreen-mean             1.241431   -2.465074    -0.452550     -224.802392   \n",
      "value-mean               9.247425    6.543950    37.505668     1634.314213   \n",
      "saturation-mean          0.023612   -0.103814    -0.324256       -5.301873   \n",
      "hue-mean                -4.268464   -0.523307    -6.360775      -19.459340   \n",
      "\n",
      "                      rawred-mean  rawblue-mean  rawgreen-mean  exred-mean  \\\n",
      "region-centroid-col    139.752925    184.722750     168.151916  -73.368311   \n",
      "region-centroid-row   -942.593399  -1204.824892    -915.529726  235.168142   \n",
      "short-line-density-5    -0.023572     -0.037389      -0.022785    0.013029   \n",
      "short-line-density-2    -0.010589      0.003247      -0.011840   -0.012584   \n",
      "vedge-mean              -0.518386      2.407980      -0.304143   -3.140598   \n",
      "vegde-sd                -3.359038     13.239647       5.561045  -25.518709   \n",
      "hedge-mean               3.296069      6.889810       3.860404   -4.158071   \n",
      "hedge-sd                17.592175     43.260566      30.200132  -38.276283   \n",
      "intensity-mean        1335.052585   1654.758061    1382.504183 -367.157240   \n",
      "rawred-mean           1227.575695   1511.050487    1266.531680 -322.430930   \n",
      "rawblue-mean          1511.050487   1894.639602    1558.584162 -431.122968   \n",
      "rawgreen-mean         1266.531680   1558.584162    1322.396774 -347.917738   \n",
      "exred-mean            -322.430930   -431.122968    -347.917738  134.178885   \n",
      "exblue-mean            527.993820    719.644906     528.240125 -191.897434   \n",
      "exgreen-mean          -205.562892   -288.521939    -180.322387   57.718547   \n",
      "value-mean            1491.903070   1865.742450    1545.297183 -427.233670   \n",
      "saturation-mean         -4.934948     -5.914600      -5.056070    1.100775   \n",
      "hue-mean               -17.790149    -25.891790     -14.696082    5.007578   \n",
      "\n",
      "                      exblue-mean  exgreen-mean   value-mean  saturation-mean  \\\n",
      "region-centroid-col     61.539927     11.828341   188.478473        -1.802488   \n",
      "region-centroid-row   -551.526997    316.358910 -1130.983822         1.070354   \n",
      "short-line-density-5    -0.028421      0.015391    -0.027379        -0.000396   \n",
      "short-line-density-2     0.028923     -0.016338    -0.000151         0.000090   \n",
      "vedge-mean               5.638482     -2.497883     2.102269        -0.039945   \n",
      "vegde-sd                24.277269      1.241431     9.247425         0.023612   \n",
      "hedge-mean               6.623147     -2.465074     6.543950        -0.103814   \n",
      "hedge-sd                38.728875     -0.452550    37.505668        -0.324256   \n",
      "intensity-mean         591.959630   -224.802392  1634.314213        -5.301873   \n",
      "rawred-mean            527.993820   -205.562892  1491.903070        -4.934948   \n",
      "rawblue-mean           719.644906   -288.521939  1865.742450        -5.914600   \n",
      "rawgreen-mean          528.240125   -180.322387  1545.297183        -5.056070   \n",
      "exred-mean            -191.897434     57.718547  -427.233670         1.100775   \n",
      "exblue-mean            383.056094   -191.158661   694.284995        -1.838183   \n",
      "exgreen-mean          -191.158661    133.440117  -267.051325         0.737408   \n",
      "value-mean             694.284995   -267.051325  1842.277530        -5.914180   \n",
      "saturation-mean         -1.838183      0.737408    -5.914180         0.052125   \n",
      "hue-mean               -19.297356     14.289778   -22.640405        -0.020279   \n",
      "\n",
      "                       hue-mean  \n",
      "region-centroid-col    4.430603  \n",
      "region-centroid-row   52.671042  \n",
      "short-line-density-5   0.007011  \n",
      "short-line-density-2  -0.003106  \n",
      "vedge-mean            -0.408560  \n",
      "vegde-sd              -4.268464  \n",
      "hedge-mean            -0.523307  \n",
      "hedge-sd              -6.360775  \n",
      "intensity-mean       -19.459340  \n",
      "rawred-mean          -17.790149  \n",
      "rawblue-mean         -25.891790  \n",
      "rawgreen-mean        -14.696082  \n",
      "exred-mean             5.007578  \n",
      "exblue-mean          -19.297356  \n",
      "exgreen-mean          14.289778  \n",
      "value-mean           -22.640405  \n",
      "saturation-mean       -0.020279  \n",
      "hue-mean               2.388062  \n"
     ]
    }
   ],
   "source": [
    "x_cov = x.cov()\n",
    "print(x_cov)"
   ]
  },
  {
   "cell_type": "markdown",
   "metadata": {},
   "source": [
    "- Step 5. Calculate eigenvectors (e1, e2, …, ed) and their corresponding eigenvalues of the\n",
    "covariance matrix. Use numpy library. Write them in console."
   ]
  },
  {
   "cell_type": "code",
   "execution_count": 101,
   "metadata": {
    "ExecuteTime": {
     "end_time": "2019-11-06T19:20:31.776275Z",
     "start_time": "2019-11-06T19:20:31.761348Z"
    }
   },
   "outputs": [
    {
     "name": "stdout",
     "output_type": "stream",
     "text": [
      "Eigenvalues: [9.14303165e+03 5.31984324e+03 4.73373832e+03 2.28196115e+03\n",
      " 7.40075285e+02 2.27198891e+02 5.65467407e+01 7.75075241e+00\n",
      " 3.02612396e+00 1.35900712e+00 2.57259667e-01 2.05023746e-02\n",
      " 1.56374345e-03 5.19612494e-04 5.67582040e-10 1.13608945e-08\n",
      " 8.24330478e-09 9.77730108e-09]\n",
      "Eigenvectors: [[ 8.24446942e-02  9.92609045e-01  2.47075683e-02 -8.34839203e-02\n",
      "   1.70606459e-02 -1.28883537e-03 -7.30417620e-03  1.83106981e-03\n",
      "   4.12868578e-04 -4.68369601e-04 -5.17025870e-04 -1.97282387e-04\n",
      "   2.87219679e-05  2.18601494e-06 -5.99149960e-09  4.36988356e-08\n",
      "  -2.73941216e-08 -3.34634442e-08]\n",
      " [-3.82651486e-01  1.08266752e-01  2.77384114e-02  9.11631395e-01\n",
      "  -4.84956223e-02 -7.74630694e-02 -3.56406099e-02 -1.33245460e-02\n",
      "   5.11596856e-05  1.46041560e-02 -1.20780131e-03 -1.93170723e-04\n",
      "   2.13893415e-05 -3.10382954e-05  1.19568926e-08  3.06007520e-08\n",
      "  -1.74797643e-08 -4.86976476e-09]\n",
      " [-1.49269395e-05 -2.52586641e-05  2.21945717e-05  5.26256353e-05\n",
      "  -1.39658273e-05  4.70446141e-05 -6.47185675e-05 -9.70632239e-05\n",
      "   2.67239978e-04 -4.91772526e-03  1.44104799e-03  1.14373616e-03\n",
      "   9.99969843e-01 -5.71352263e-03 -9.52209947e-06 -9.32257126e-05\n",
      "  -6.69556063e-06 -1.29389278e-05]\n",
      " [-1.61269726e-06 -2.19488035e-06 -8.55113928e-05  3.03389102e-05\n",
      "   2.44318830e-05 -1.81942610e-04  5.67478613e-05  1.60983757e-03\n",
      "   4.15552828e-04  9.25719670e-04 -8.88501144e-04 -6.20877819e-03\n",
      "   5.72647192e-03  9.99962099e-01 -3.35725050e-05  1.68934298e-05\n",
      "  -3.87388042e-05  7.40074691e-06]\n",
      " [ 5.21227338e-04  1.98765478e-04 -2.27071326e-02  3.52701995e-03\n",
      "  -2.76433580e-02 -2.84992602e-02  1.83494396e-02  4.67235870e-01\n",
      "   8.80466387e-01  6.13023191e-02  1.47521784e-02 -7.14623414e-03\n",
      "   9.39770002e-05 -1.21424776e-03  1.24820520e-07  5.64762259e-07\n",
      "  -5.56515462e-07 -1.12105632e-06]\n",
      " [ 1.70926658e-02  2.47713945e-02 -5.63042294e-01 -2.32087603e-02\n",
      "  -8.24703613e-01  8.94026793e-05 -1.23690323e-02 -1.77083327e-02\n",
      "  -3.05302649e-02 -1.98403289e-03 -4.57419977e-04  2.63079790e-04\n",
      "  -5.80762804e-07  1.77688979e-05 -2.03702065e-08 -1.28649593e-08\n",
      "   1.05076341e-08  2.31310116e-08]\n",
      " [ 8.69077864e-04  1.37144945e-04 -3.36667492e-02  1.42074372e-02\n",
      "   2.09626373e-02 -2.93422732e-02  4.59989800e-03  8.81175664e-01\n",
      "  -4.64454529e-01 -6.92371807e-02  1.55121700e-02 -1.08568091e-02\n",
      "  -1.45784541e-04 -1.22370658e-03 -7.65324867e-08  1.30541574e-07\n",
      "   2.96215308e-07  9.14140748e-08]\n",
      " [ 2.35253694e-02  1.42397861e-02 -8.23489867e-01  6.30987187e-02\n",
      "   5.61614419e-01  8.13909299e-03 -4.13966609e-03 -3.70472805e-02\n",
      "   1.61228012e-02  2.61680757e-04 -3.10690312e-04  1.64134234e-04\n",
      "   1.63259281e-05 -3.09221021e-05  2.05791668e-08 -2.82590258e-08\n",
      "  -1.15297886e-08 -2.05158443e-08]\n",
      " [ 3.89264055e-01 -1.87784352e-02  1.86699773e-02  1.68641658e-01\n",
      "  -8.88066901e-03  1.16872848e-01 -8.31370591e-02  6.81898905e-03\n",
      "  -1.35385930e-02  1.80098064e-01  1.26146569e-01 -1.02026655e-02\n",
      "   6.50285868e-04 -9.09383374e-05 -1.88511475e-03 -4.79018891e-01\n",
      "  -1.30853463e-02 -7.21358943e-01]\n",
      " [ 3.56033209e-01 -1.93552453e-02  1.97415119e-02  1.50805702e-01\n",
      "  -6.42930118e-03  1.72488366e-01 -3.27211846e-01  1.13580948e-02\n",
      "  -5.37067704e-03  1.34863641e-01  1.05228018e-01 -1.09500980e-02\n",
      "   5.20027105e-04 -1.06345647e-04 -7.78171071e-03  3.22748036e-01\n",
      "  -7.46878734e-01  1.45837060e-01]\n",
      " [ 4.45821116e-01 -2.27602054e-02  1.85396665e-02  1.74546640e-01\n",
      "  -8.54027854e-03 -1.21514499e-01 -1.82816688e-02 -3.25088038e-03\n",
      "  -2.01245553e-02  2.11794640e-01  1.61154667e-01 -1.28338531e-02\n",
      "   7.95972345e-04 -1.35893477e-04  3.64954995e-03 -4.62585590e-01\n",
      "   2.16975558e-01  6.49794853e-01]\n",
      " [ 3.65937862e-01 -1.42198762e-02  1.77286975e-02  1.80572602e-01\n",
      "  -1.16723983e-02  2.99644986e-01  9.60802372e-02  1.23496983e-02\n",
      "  -1.51180003e-02  1.93631073e-01  1.12055382e-01 -6.85865722e-03\n",
      "   8.50967706e-04 -8.34674939e-05  6.01683786e-03  6.18856791e-01\n",
      "   5.42988666e-01 -7.42726635e-02]\n",
      " [-9.96926073e-02 -1.73030456e-03  3.21464284e-03 -5.35077926e-02\n",
      "   7.35406094e-03  1.66846019e-01 -7.32222525e-01  1.36176733e-02\n",
      "   2.45036060e-02 -1.35699956e-01 -6.27527734e-02 -2.21469207e-03\n",
      "  -6.41389179e-04  9.24791189e-05 -5.74510629e-01 -5.41625756e-02\n",
      "   2.56758461e-01  3.28010586e-02]\n",
      " [ 1.69671238e-01 -1.19454387e-02 -3.90883216e-04  1.77149864e-02\n",
      "   1.02118555e-03 -7.15162815e-01  1.94570114e-01 -3.02109427e-02\n",
      "  -1.97630707e-02  9.50930421e-02  1.05029073e-01 -7.83807656e-03\n",
      "   3.85956837e-04 -1.54676015e-04 -5.78321164e-01  2.07614865e-01\n",
      "  -6.45264713e-02 -1.35183313e-01]\n",
      " [-6.99786339e-02  1.36757363e-02 -2.82376581e-03  3.57928308e-02\n",
      "  -8.37520847e-03  5.48316785e-01  5.37652438e-01  1.65932265e-02\n",
      "  -4.74026916e-03  4.06067874e-02 -4.22772013e-02  1.00570385e-02\n",
      "   2.38839690e-04  4.86964164e-06 -5.79110125e-01 -1.52865710e-01\n",
      "  -1.73197203e-01  1.06172548e-01]\n",
      " [ 4.37383027e-01 -2.00888064e-02  2.00420821e-02  1.95803088e-01\n",
      "  -1.21195343e-02 -3.50407282e-02  9.39735053e-02 -1.70904420e-02\n",
      "   6.29659368e-02 -7.05545410e-01 -5.05978112e-01  3.56830138e-02\n",
      "  -2.79464593e-03  4.27512453e-04  4.26980375e-07 -2.40239603e-07\n",
      "  -5.50711132e-08 -6.50464602e-07]\n",
      " [-1.30518220e-03 -2.11821224e-04 -5.67859030e-05 -1.62294862e-03\n",
      "  -3.40587337e-05 -1.04569775e-03  5.81881659e-03 -8.69894665e-03\n",
      "  -4.48572388e-03  4.52374371e-02 -1.33764097e-01 -9.89890715e-01\n",
      "   1.51229000e-03 -6.30024740e-03 -2.22083127e-06  6.06105839e-07\n",
      "  -1.20816851e-06 -1.24695286e-05]\n",
      " [-7.16778974e-03  2.31013490e-03  1.54568744e-03  1.30141147e-02\n",
      "  -2.27576632e-03  5.58414529e-02  5.15851374e-02 -3.56466879e-02\n",
      "   4.49941889e-02 -5.73833938e-01  8.02097661e-01 -1.34279163e-01\n",
      "  -3.83719689e-03  4.77863131e-04 -6.96826895e-07 -1.29486469e-06\n",
      "  -1.53153257e-06 -9.39641371e-07]]\n"
     ]
    }
   ],
   "source": [
    "eigenvalues, eigenvectors = np.linalg.eig(x_cov)\n",
    "m = len(eigenvalues)\n",
    "print(\"Eigenvalues:\", eigenvalues)\n",
    "print(\"Eigenvectors:\", eigenvectors)"
   ]
  },
  {
   "cell_type": "code",
   "execution_count": 102,
   "metadata": {
    "ExecuteTime": {
     "end_time": "2019-11-06T19:20:36.043379Z",
     "start_time": "2019-11-06T19:20:36.031446Z"
    }
   },
   "outputs": [
    {
     "data": {
      "text/plain": [
       "array([-1.85965826e-12,  6.71812606e-12, -1.43859190e-12, -1.26878861e-14,\n",
       "       -3.23872873e-14,  3.79557497e-15, -2.60503424e-14, -5.79619686e-13,\n",
       "       -1.44442791e-12, -5.73766035e-12, -8.06232858e-12, -2.11189399e-12,\n",
       "        1.93981636e-12, -3.01053626e-12,  1.35726153e-12, -7.90745247e-12,\n",
       "        1.95399252e-14,  7.10542736e-14])"
      ]
     },
     "execution_count": 102,
     "metadata": {},
     "output_type": "execute_result"
    }
   ],
   "source": [
    "# Checking results: the following operation should return a vector of 0's (or numerically \n",
    "# equivalent values like 1e-12 due to precision loss in float comma operations)\n",
    "np.dot((x_cov - eigenvalues[0] * np.identity(m)), eigenvectors[:,0])"
   ]
  },
  {
   "cell_type": "markdown",
   "metadata": {},
   "source": [
    "- Step 6. Sort the eigenvectors by decreasing eigenvalues and choose k eigenvectors with the\n",
    "largest eigenvalues to form a new d x k dimensional matrix (where every column\n",
    "represents an eigenvector). Write the sorted eigenvectors and eigenvalues in console."
   ]
  },
  {
   "cell_type": "code",
   "execution_count": 116,
   "metadata": {
    "ExecuteTime": {
     "end_time": "2019-11-06T19:29:40.880119Z",
     "start_time": "2019-11-06T19:29:40.875131Z"
    }
   },
   "outputs": [],
   "source": [
    "idx = eigenvalues.argsort()[::-1]   \n",
    "eigenvalues = eigenvalues[idx]\n",
    "eigenvectors = eigenvectors[:,idx]"
   ]
  },
  {
   "cell_type": "markdown",
   "metadata": {},
   "source": [
    "- Step 7. Derive the new data set. Use this d x k eigenvector matrix to transform the samples\n",
    "onto the new subspace."
   ]
  },
  {
   "cell_type": "code",
   "execution_count": 121,
   "metadata": {
    "ExecuteTime": {
     "end_time": "2019-11-06T19:46:29.907555Z",
     "start_time": "2019-11-06T19:46:29.900574Z"
    }
   },
   "outputs": [
    {
     "name": "stdout",
     "output_type": "stream",
     "text": [
      "[[ 8.24446942e-02  9.92609045e-01  2.47075683e-02]\n",
      " [-3.82651486e-01  1.08266752e-01  2.77384114e-02]\n",
      " [-1.49269395e-05 -2.52586641e-05  2.21945717e-05]\n",
      " [-1.61269726e-06 -2.19488035e-06 -8.55113928e-05]\n",
      " [ 5.21227338e-04  1.98765478e-04 -2.27071326e-02]\n",
      " [ 1.70926658e-02  2.47713945e-02 -5.63042294e-01]\n",
      " [ 8.69077864e-04  1.37144945e-04 -3.36667492e-02]\n",
      " [ 2.35253694e-02  1.42397861e-02 -8.23489867e-01]\n",
      " [ 3.89264055e-01 -1.87784352e-02  1.86699773e-02]\n",
      " [ 3.56033209e-01 -1.93552453e-02  1.97415119e-02]\n",
      " [ 4.45821116e-01 -2.27602054e-02  1.85396665e-02]\n",
      " [ 3.65937862e-01 -1.42198762e-02  1.77286975e-02]\n",
      " [-9.96926073e-02 -1.73030456e-03  3.21464284e-03]\n",
      " [ 1.69671238e-01 -1.19454387e-02 -3.90883216e-04]\n",
      " [-6.99786339e-02  1.36757363e-02 -2.82376581e-03]\n",
      " [ 4.37383027e-01 -2.00888064e-02  2.00420821e-02]\n",
      " [-1.30518220e-03 -2.11821224e-04 -5.67859030e-05]\n",
      " [-7.16778974e-03  2.31013490e-03  1.54568744e-03]]\n"
     ]
    }
   ],
   "source": []
  },
  {
   "cell_type": "markdown",
   "metadata": {},
   "source": [
    "- Step 8. Plot the new subspace (choose the largest eigenvectors to plot the matrix)."
   ]
  },
  {
   "cell_type": "code",
   "execution_count": null,
   "metadata": {},
   "outputs": [],
   "source": []
  },
  {
   "cell_type": "markdown",
   "metadata": {},
   "source": [
    "- Step 9. Reconstruct the data set back to the original one. Additionally, plot the data set."
   ]
  },
  {
   "cell_type": "code",
   "execution_count": null,
   "metadata": {},
   "outputs": [],
   "source": []
  },
  {
   "cell_type": "code",
   "execution_count": 93,
   "metadata": {
    "ExecuteTime": {
     "end_time": "2019-11-06T19:15:29.453358Z",
     "start_time": "2019-11-06T19:15:29.441428Z"
    }
   },
   "outputs": [
    {
     "name": "stdout",
     "output_type": "stream",
     "text": [
      "A: [[ 1 -1]\n",
      " [ 1  1]]\n",
      "Eigvalues w: [1.+1.j 1.-1.j]\n",
      "Eigvectors v: [[0.70710678+0.j         0.70710678-0.j        ]\n",
      " [0.        -0.70710678j 0.        +0.70710678j]]\n"
     ]
    },
    {
     "data": {
      "text/plain": [
       "array([[ 0.        -0.70710678j,  0.        +0.70710678j],\n",
       "       [ 0.70710678+0.j        , -0.70710678-0.j        ]])"
      ]
     },
     "execution_count": 93,
     "metadata": {},
     "output_type": "execute_result"
    }
   ],
   "source": [
    "A = np.array([[1, -1], [1, 1]])\n",
    "print(\"A:\", A)\n",
    "w, v = np.linalg.eig(A)\n",
    "print(\"Eigvalues w:\", w)\n",
    "print(\"Eigvectors v:\", v)\n",
    "(A - w[0]*np.identity(2))*v[:,0]"
   ]
  },
  {
   "cell_type": "code",
   "execution_count": 98,
   "metadata": {
    "ExecuteTime": {
     "end_time": "2019-11-06T19:17:49.408458Z",
     "start_time": "2019-11-06T19:17:49.396488Z"
    }
   },
   "outputs": [
    {
     "name": "stdout",
     "output_type": "stream",
     "text": [
      "Eigvalues w: [ 4.31662479e+00 -2.31662479e+00  1.93041509e-17]\n",
      "Eigvectors v: [[ 0.58428153  0.73595785  0.40824829]\n",
      " [ 0.80407569 -0.38198836 -0.81649658]\n",
      " [ 0.10989708 -0.55897311  0.40824829]]\n",
      "[ 0.73595785 -0.38198836 -0.55897311]\n",
      "-2.3166247903554\n"
     ]
    },
    {
     "data": {
      "text/plain": [
       "array([ 8.88178420e-16, -7.35522754e-16,  0.00000000e+00])"
      ]
     },
     "execution_count": 98,
     "metadata": {},
     "output_type": "execute_result"
    }
   ],
   "source": [
    "A = np.array([[1,2,3],[3,2,1],[1,0,-1]])\n",
    "w, v = np.linalg.eig(A)\n",
    "print(\"Eigvalues w:\", w)\n",
    "print(\"Eigvectors v:\", v)\n",
    "v1 = v[:,1]\n",
    "print(v1)\n",
    "lam1 = w[1]\n",
    "print(lam1)\n",
    "np.dot((A - w[0]*np.identity(3)),v[:,0])"
   ]
  }
 ],
 "metadata": {
  "hide_input": false,
  "kernelspec": {
   "display_name": "Python 3",
   "language": "python",
   "name": "python3"
  },
  "language_info": {
   "codemirror_mode": {
    "name": "ipython",
    "version": 3
   },
   "file_extension": ".py",
   "mimetype": "text/x-python",
   "name": "python",
   "nbconvert_exporter": "python",
   "pygments_lexer": "ipython3",
   "version": "3.6.0"
  }
 },
 "nbformat": 4,
 "nbformat_minor": 2
}
